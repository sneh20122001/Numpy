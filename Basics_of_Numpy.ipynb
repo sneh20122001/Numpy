{
  "nbformat": 4,
  "nbformat_minor": 0,
  "metadata": {
    "colab": {
      "provenance": [],
      "authorship_tag": "ABX9TyMJfsPxN74vdJZsfYbH0gZj",
      "include_colab_link": true
    },
    "kernelspec": {
      "name": "python3",
      "display_name": "Python 3"
    },
    "language_info": {
      "name": "python"
    }
  },
  "cells": [
    {
      "cell_type": "markdown",
      "metadata": {
        "id": "view-in-github",
        "colab_type": "text"
      },
      "source": [
        "<a href=\"https://colab.research.google.com/github/sneh20122001/Numpy/blob/main/Basics_of_Numpy.ipynb\" target=\"_parent\"><img src=\"https://colab.research.google.com/assets/colab-badge.svg\" alt=\"Open In Colab\"/></a>"
      ]
    },
    {
      "cell_type": "code",
      "execution_count": null,
      "metadata": {
        "id": "pnJvh2nmXJDJ"
      },
      "outputs": [],
      "source": [
        "# import library for perform task\n",
        "import numpy as np"
      ]
    },
    {
      "cell_type": "markdown",
      "source": [
        "## Creating Numpy Arrays"
      ],
      "metadata": {
        "id": "0VPXsq4gXbWo"
      }
    },
    {
      "cell_type": "code",
      "source": [
        "# 1D\n",
        "x = np.array([11,22,33])\n",
        "x\n"
      ],
      "metadata": {
        "colab": {
          "base_uri": "https://localhost:8080/"
        },
        "id": "ogNoujtbXV2u",
        "outputId": "c406a7e5-6939-42ad-ec98-928a1511c941"
      },
      "execution_count": null,
      "outputs": [
        {
          "output_type": "execute_result",
          "data": {
            "text/plain": [
              "array([11, 22, 33])"
            ]
          },
          "metadata": {},
          "execution_count": 2
        }
      ]
    },
    {
      "cell_type": "code",
      "source": [
        "# 2D\n",
        "\n",
        "y = np.array([\n",
        "    [11,22,33],\n",
        "    [44,55,66]\n",
        "])\n",
        "y"
      ],
      "metadata": {
        "colab": {
          "base_uri": "https://localhost:8080/"
        },
        "id": "VeSOgiIzXV5c",
        "outputId": "49de83f3-0509-4d3e-9b87-ae755a4f133e"
      },
      "execution_count": null,
      "outputs": [
        {
          "output_type": "execute_result",
          "data": {
            "text/plain": [
              "array([[11, 22, 33],\n",
              "       [44, 55, 66]])"
            ]
          },
          "metadata": {},
          "execution_count": 3
        }
      ]
    },
    {
      "cell_type": "code",
      "source": [
        "# 3D\n",
        "\n",
        "z = np.array([\n",
        "    [\n",
        "        [1,2,3],\n",
        "        [3,2,1]\n",
        "    ],\n",
        "    [\n",
        "        [4,5,6],\n",
        "        [6,5,4]\n",
        "    ]\n",
        "])\n",
        "z"
      ],
      "metadata": {
        "colab": {
          "base_uri": "https://localhost:8080/"
        },
        "id": "m5Ki12QDXV8P",
        "outputId": "c14963be-343b-464c-de9e-f800cb3a36a0"
      },
      "execution_count": null,
      "outputs": [
        {
          "output_type": "execute_result",
          "data": {
            "text/plain": [
              "array([[[1, 2, 3],\n",
              "        [3, 2, 1]],\n",
              "\n",
              "       [[4, 5, 6],\n",
              "        [6, 5, 4]]])"
            ]
          },
          "metadata": {},
          "execution_count": 4
        }
      ]
    },
    {
      "cell_type": "markdown",
      "source": [
        "## Numpy vs List"
      ],
      "metadata": {
        "id": "hkrx1h4Qf7EC"
      }
    },
    {
      "cell_type": "code",
      "source": [
        "# memory\n",
        "p = [ i for i in range(1000000)]\n",
        "import sys\n",
        "\n",
        "sys.getsizeof(p)"
      ],
      "metadata": {
        "colab": {
          "base_uri": "https://localhost:8080/"
        },
        "id": "j-1s5dwlf9zM",
        "outputId": "d903d5b3-78ac-450b-a821-3019eec3126b"
      },
      "execution_count": null,
      "outputs": [
        {
          "output_type": "execute_result",
          "data": {
            "text/plain": [
              "8448728"
            ]
          },
          "metadata": {},
          "execution_count": 5
        }
      ]
    },
    {
      "cell_type": "code",
      "source": [
        "p = np.arange(1000000,dtype=np.int8)\n",
        "sys.getsizeof(p)"
      ],
      "metadata": {
        "colab": {
          "base_uri": "https://localhost:8080/"
        },
        "id": "g9k8mMxBgbHL",
        "outputId": "b7870e71-1d7d-46a3-db8d-216153f0925c"
      },
      "execution_count": null,
      "outputs": [
        {
          "output_type": "execute_result",
          "data": {
            "text/plain": [
              "1000112"
            ]
          },
          "metadata": {},
          "execution_count": 6
        }
      ]
    },
    {
      "cell_type": "code",
      "source": [
        "# speed\n",
        "a = [i for i in range(1000000)]\n",
        "b = [i for i in range(1000000,2000000)]\n",
        "\n",
        "c = []\n",
        "import time\n",
        "\n",
        "start= time.time()\n",
        "for i in range(len(a)):\n",
        "  c.append(a[i] + b[i])\n",
        "print(time.time() - start)"
      ],
      "metadata": {
        "colab": {
          "base_uri": "https://localhost:8080/"
        },
        "id": "U8z1MYsUgu7_",
        "outputId": "f27be391-aa4c-49b7-d9e2-78ac98310065"
      },
      "execution_count": null,
      "outputs": [
        {
          "output_type": "stream",
          "name": "stdout",
          "text": [
            "0.2954113483428955\n"
          ]
        }
      ]
    },
    {
      "cell_type": "code",
      "source": [
        "a = np.arange(1000000)\n",
        "b = np.arange(1000000,2000000)\n",
        "\n",
        "start = time.time()\n",
        "c = a + b\n",
        "print(time.time()-start)"
      ],
      "metadata": {
        "colab": {
          "base_uri": "https://localhost:8080/"
        },
        "id": "91kjI-oCgu_k",
        "outputId": "fad5798e-96fb-4705-bb80-4e3e80769f39"
      },
      "execution_count": null,
      "outputs": [
        {
          "output_type": "stream",
          "name": "stdout",
          "text": [
            "0.008650064468383789\n"
          ]
        }
      ]
    },
    {
      "cell_type": "markdown",
      "source": [
        "## Identify type of array"
      ],
      "metadata": {
        "id": "QE3KviyzZA7Y"
      }
    },
    {
      "cell_type": "code",
      "source": [
        "print(x.dtype)\n",
        "print(y.dtype)\n",
        "print(z.dtype)"
      ],
      "metadata": {
        "colab": {
          "base_uri": "https://localhost:8080/"
        },
        "id": "eBBMNt6YXV_N",
        "outputId": "3707ac07-9a87-424e-be34-51bcfa6fcbfb"
      },
      "execution_count": null,
      "outputs": [
        {
          "output_type": "stream",
          "name": "stdout",
          "text": [
            "int64\n",
            "int64\n",
            "int64\n"
          ]
        }
      ]
    },
    {
      "cell_type": "markdown",
      "source": [
        "## Change datatype"
      ],
      "metadata": {
        "id": "VM4EYa8oZQfl"
      }
    },
    {
      "cell_type": "code",
      "source": [
        "a=np.array([1,2,4],dtype=float)\n",
        "\n",
        "print(a)\n",
        "print(a.dtype)\n"
      ],
      "metadata": {
        "colab": {
          "base_uri": "https://localhost:8080/"
        },
        "id": "diSeNqCpXWB8",
        "outputId": "c0b43594-c970-4fdb-9487-b21e7f2e9e90"
      },
      "execution_count": null,
      "outputs": [
        {
          "output_type": "stream",
          "name": "stdout",
          "text": [
            "[1. 2. 4.]\n",
            "float64\n"
          ]
        }
      ]
    },
    {
      "cell_type": "markdown",
      "source": [
        "## Astype"
      ],
      "metadata": {
        "id": "6EaUnSYrDD2M"
      }
    },
    {
      "cell_type": "code",
      "source": [
        "#convert another memory type\n",
        "a.astype(np.float32)"
      ],
      "metadata": {
        "colab": {
          "base_uri": "https://localhost:8080/"
        },
        "id": "3u9sz7TSDEMb",
        "outputId": "f826a2a6-c042-4c33-9136-2d24bd8d7940"
      },
      "execution_count": null,
      "outputs": [
        {
          "output_type": "execute_result",
          "data": {
            "text/plain": [
              "array([1., 2., 4.], dtype=float32)"
            ]
          },
          "metadata": {},
          "execution_count": 11
        }
      ]
    },
    {
      "cell_type": "markdown",
      "source": [
        "## Arange"
      ],
      "metadata": {
        "id": "NH4C_sbHa2N0"
      }
    },
    {
      "cell_type": "code",
      "source": [
        "# numbers print in particular range between parameter\n",
        "# first para included and last is excluded\n",
        "np.arange(1,20)"
      ],
      "metadata": {
        "colab": {
          "base_uri": "https://localhost:8080/"
        },
        "id": "139k39k6XWET",
        "outputId": "a3be945b-1c05-4191-c9df-2958fa3ddb83"
      },
      "execution_count": null,
      "outputs": [
        {
          "output_type": "execute_result",
          "data": {
            "text/plain": [
              "array([ 1,  2,  3,  4,  5,  6,  7,  8,  9, 10, 11, 12, 13, 14, 15, 16, 17,\n",
              "       18, 19])"
            ]
          },
          "metadata": {},
          "execution_count": 12
        }
      ]
    },
    {
      "cell_type": "markdown",
      "source": [
        "## Ndim"
      ],
      "metadata": {
        "id": "ptQGKKrTwzP6"
      }
    },
    {
      "cell_type": "code",
      "source": [
        "# dimension\n",
        "print(x.ndim)\n",
        "print(y.ndim)\n",
        "print(z.ndim)"
      ],
      "metadata": {
        "colab": {
          "base_uri": "https://localhost:8080/"
        },
        "id": "mpm9NkgZw2Dd",
        "outputId": "bdde24e9-5bdd-4409-f6cc-160cf080d0bd"
      },
      "execution_count": null,
      "outputs": [
        {
          "output_type": "stream",
          "name": "stdout",
          "text": [
            "1\n",
            "2\n",
            "3\n"
          ]
        }
      ]
    },
    {
      "cell_type": "markdown",
      "source": [
        "## Shape and Reshape"
      ],
      "metadata": {
        "id": "255yXR_4b79r"
      }
    },
    {
      "cell_type": "code",
      "source": [
        "print(x.shape)\n",
        "print(y.shape)\n",
        "print(z.shape)"
      ],
      "metadata": {
        "colab": {
          "base_uri": "https://localhost:8080/"
        },
        "id": "usDIcRC8XWG9",
        "outputId": "cbfcd4c5-fb58-4e2a-e291-3924d87df082"
      },
      "execution_count": null,
      "outputs": [
        {
          "output_type": "stream",
          "name": "stdout",
          "text": [
            "(3,)\n",
            "(2, 3)\n",
            "(2, 2, 3)\n"
          ]
        }
      ]
    },
    {
      "cell_type": "code",
      "source": [
        "print(x.reshape(3,1))\n",
        "print(y.reshape(3,2))\n",
        "print(z.reshape(2,3,2))"
      ],
      "metadata": {
        "colab": {
          "base_uri": "https://localhost:8080/"
        },
        "id": "mVDcVECDXWJe",
        "outputId": "ec26c091-d189-40dc-f0e8-a9902976dc24"
      },
      "execution_count": null,
      "outputs": [
        {
          "output_type": "stream",
          "name": "stdout",
          "text": [
            "[[11]\n",
            " [22]\n",
            " [33]]\n",
            "[[11 22]\n",
            " [33 44]\n",
            " [55 66]]\n",
            "[[[1 2]\n",
            "  [3 3]\n",
            "  [2 1]]\n",
            "\n",
            " [[4 5]\n",
            "  [6 6]\n",
            "  [5 4]]]\n"
          ]
        }
      ]
    },
    {
      "cell_type": "markdown",
      "source": [
        "## Zeros and Ones"
      ],
      "metadata": {
        "id": "9z-bNmHbvXDS"
      }
    },
    {
      "cell_type": "code",
      "source": [
        "np.ones((3,4))"
      ],
      "metadata": {
        "id": "Y1U8_xnfXWLu",
        "colab": {
          "base_uri": "https://localhost:8080/"
        },
        "outputId": "7d5db67e-efc5-427a-c791-46606bef9786"
      },
      "execution_count": null,
      "outputs": [
        {
          "output_type": "execute_result",
          "data": {
            "text/plain": [
              "array([[1., 1., 1., 1.],\n",
              "       [1., 1., 1., 1.],\n",
              "       [1., 1., 1., 1.]])"
            ]
          },
          "metadata": {},
          "execution_count": 16
        }
      ]
    },
    {
      "cell_type": "code",
      "source": [
        "np.zeros((3,4))"
      ],
      "metadata": {
        "id": "aQZOeZRZXWOP",
        "colab": {
          "base_uri": "https://localhost:8080/"
        },
        "outputId": "ffb7cc47-cdf1-432b-83f3-7c6481d46d1f"
      },
      "execution_count": null,
      "outputs": [
        {
          "output_type": "execute_result",
          "data": {
            "text/plain": [
              "array([[0., 0., 0., 0.],\n",
              "       [0., 0., 0., 0.],\n",
              "       [0., 0., 0., 0.]])"
            ]
          },
          "metadata": {},
          "execution_count": 17
        }
      ]
    },
    {
      "cell_type": "markdown",
      "source": [
        "## Identity"
      ],
      "metadata": {
        "id": "Gkj_3L_dxGiZ"
      }
    },
    {
      "cell_type": "code",
      "source": [
        "np.identity(3)"
      ],
      "metadata": {
        "colab": {
          "base_uri": "https://localhost:8080/"
        },
        "id": "oqKhmNgWxI7n",
        "outputId": "1846ec7b-6853-40dc-a6ba-c0d748a966c1"
      },
      "execution_count": null,
      "outputs": [
        {
          "output_type": "execute_result",
          "data": {
            "text/plain": [
              "array([[1., 0., 0.],\n",
              "       [0., 1., 0.],\n",
              "       [0., 0., 1.]])"
            ]
          },
          "metadata": {},
          "execution_count": 18
        }
      ]
    },
    {
      "cell_type": "markdown",
      "source": [
        "## Random"
      ],
      "metadata": {
        "id": "EqOcmCfsvwkr"
      }
    },
    {
      "cell_type": "code",
      "source": [
        "np.random.random((3,4))"
      ],
      "metadata": {
        "id": "DYef-xywXWQ0",
        "colab": {
          "base_uri": "https://localhost:8080/"
        },
        "outputId": "b250aefe-0e09-4c1f-bcb9-6a963ca14336"
      },
      "execution_count": null,
      "outputs": [
        {
          "output_type": "execute_result",
          "data": {
            "text/plain": [
              "array([[0.49728331, 0.21594051, 0.1837627 , 0.02852136],\n",
              "       [0.08897064, 0.79732833, 0.78362381, 0.66960886],\n",
              "       [0.13642017, 0.72765453, 0.96941244, 0.5069212 ]])"
            ]
          },
          "metadata": {},
          "execution_count": 19
        }
      ]
    },
    {
      "cell_type": "markdown",
      "source": [
        "## Linspace"
      ],
      "metadata": {
        "id": "rHmjb9PxwGEy"
      }
    },
    {
      "cell_type": "code",
      "source": [
        "# difference between two numbers are same\n",
        "np.linspace(-10,10,7,dtype=int)"
      ],
      "metadata": {
        "id": "qkcKS3f0XWTT",
        "colab": {
          "base_uri": "https://localhost:8080/"
        },
        "outputId": "4acb822a-bc2f-4035-fd55-10640d2ba5ca"
      },
      "execution_count": null,
      "outputs": [
        {
          "output_type": "execute_result",
          "data": {
            "text/plain": [
              "array([-10,  -7,  -4,   0,   3,   6,  10])"
            ]
          },
          "metadata": {},
          "execution_count": 20
        }
      ]
    },
    {
      "cell_type": "markdown",
      "source": [
        "## Size and Itemsize"
      ],
      "metadata": {
        "id": "8CwwzSdlzeg3"
      }
    },
    {
      "cell_type": "code",
      "source": [
        "print(x.size)\n",
        "print(y.size)\n",
        "print(z.size)"
      ],
      "metadata": {
        "id": "T72dbNo2XWVg",
        "colab": {
          "base_uri": "https://localhost:8080/"
        },
        "outputId": "28dbaae5-0782-45ea-dadf-392fee7927cf"
      },
      "execution_count": null,
      "outputs": [
        {
          "output_type": "stream",
          "name": "stdout",
          "text": [
            "3\n",
            "6\n",
            "12\n"
          ]
        }
      ]
    },
    {
      "cell_type": "code",
      "source": [
        "# It's depends on datatype\n",
        "print(x.itemsize)\n",
        "print(y.itemsize)\n",
        "print(z.itemsize)"
      ],
      "metadata": {
        "id": "r1zkRHX4XWYT",
        "colab": {
          "base_uri": "https://localhost:8080/"
        },
        "outputId": "b3aa504b-ce65-4783-95f3-d97fb3aacd4c"
      },
      "execution_count": null,
      "outputs": [
        {
          "output_type": "stream",
          "name": "stdout",
          "text": [
            "8\n",
            "8\n",
            "8\n"
          ]
        }
      ]
    },
    {
      "cell_type": "markdown",
      "source": [
        "## Array Operations"
      ],
      "metadata": {
        "id": "SXj_upYOCsYt"
      }
    },
    {
      "cell_type": "code",
      "source": [
        "a1 = np.arange(12).reshape(3,4)\n",
        "a1"
      ],
      "metadata": {
        "id": "AFlSH3GuXWd1",
        "colab": {
          "base_uri": "https://localhost:8080/"
        },
        "outputId": "049c4312-f044-40b9-e49e-93755d24b4d7"
      },
      "execution_count": null,
      "outputs": [
        {
          "output_type": "execute_result",
          "data": {
            "text/plain": [
              "array([[ 0,  1,  2,  3],\n",
              "       [ 4,  5,  6,  7],\n",
              "       [ 8,  9, 10, 11]])"
            ]
          },
          "metadata": {},
          "execution_count": 23
        }
      ]
    },
    {
      "cell_type": "code",
      "source": [
        "a2 = np.arange(12,24).reshape(3,4)\n",
        "a2"
      ],
      "metadata": {
        "id": "hD9C43YGXWgv",
        "colab": {
          "base_uri": "https://localhost:8080/"
        },
        "outputId": "8835e73a-44ee-40de-8a45-e595d5e673ed"
      },
      "execution_count": null,
      "outputs": [
        {
          "output_type": "execute_result",
          "data": {
            "text/plain": [
              "array([[12, 13, 14, 15],\n",
              "       [16, 17, 18, 19],\n",
              "       [20, 21, 22, 23]])"
            ]
          },
          "metadata": {},
          "execution_count": 24
        }
      ]
    },
    {
      "cell_type": "code",
      "source": [
        "# arithmetic +,-,*,/,%,**,//\n",
        "a1 ** 2"
      ],
      "metadata": {
        "id": "UVKDUutzXWjl",
        "colab": {
          "base_uri": "https://localhost:8080/"
        },
        "outputId": "ff53cc82-6341-4428-862b-b07974508bb9"
      },
      "execution_count": null,
      "outputs": [
        {
          "output_type": "execute_result",
          "data": {
            "text/plain": [
              "array([[  0,   1,   4,   9],\n",
              "       [ 16,  25,  36,  49],\n",
              "       [ 64,  81, 100, 121]])"
            ]
          },
          "metadata": {},
          "execution_count": 25
        }
      ]
    },
    {
      "cell_type": "code",
      "source": [
        "# relational ==,<,>,<=,>=,!=\n",
        "a2 == 15"
      ],
      "metadata": {
        "id": "4btEYfr_XWmD",
        "colab": {
          "base_uri": "https://localhost:8080/"
        },
        "outputId": "c4bb42fa-a317-42ed-c2e4-5721437dcd6d"
      },
      "execution_count": null,
      "outputs": [
        {
          "output_type": "execute_result",
          "data": {
            "text/plain": [
              "array([[False, False, False,  True],\n",
              "       [False, False, False, False],\n",
              "       [False, False, False, False]])"
            ]
          },
          "metadata": {},
          "execution_count": 26
        }
      ]
    },
    {
      "cell_type": "code",
      "source": [
        "# vector operations\n",
        "a1 ** a2"
      ],
      "metadata": {
        "colab": {
          "base_uri": "https://localhost:8080/"
        },
        "id": "-41sGU_1F-EW",
        "outputId": "684b7c40-c284-498b-9336-4007d688e464"
      },
      "execution_count": null,
      "outputs": [
        {
          "output_type": "execute_result",
          "data": {
            "text/plain": [
              "array([[                   0,                    1,                16384,\n",
              "                    14348907],\n",
              "       [          4294967296,         762939453125,      101559956668416,\n",
              "           11398895185373143],\n",
              "       [ 1152921504606846976, -1261475310744950487,  1864712049423024128,\n",
              "         6839173302027254275]])"
            ]
          },
          "metadata": {},
          "execution_count": 27
        }
      ]
    },
    {
      "cell_type": "markdown",
      "source": [
        "# Array Function"
      ],
      "metadata": {
        "id": "ASLWTfIzGZgV"
      }
    },
    {
      "cell_type": "markdown",
      "source": [
        "0-----------------> col\n",
        "\n",
        "1-----------------> row"
      ],
      "metadata": {
        "id": "9spcoDpeG0uF"
      }
    },
    {
      "cell_type": "code",
      "source": [
        "# max/min/sum/prod\n",
        "print(np.max(a1,axis=0))\n",
        "print(np.min(a1,axis=1))\n",
        "print(np.sum(a1,axis=0))\n",
        "print(np.prod(a1,axis=1))"
      ],
      "metadata": {
        "colab": {
          "base_uri": "https://localhost:8080/"
        },
        "id": "kTZKyZ3rF-MT",
        "outputId": "25e547a7-0d84-4948-a5a1-72a553880cf4"
      },
      "execution_count": null,
      "outputs": [
        {
          "output_type": "stream",
          "name": "stdout",
          "text": [
            "[ 8  9 10 11]\n",
            "[0 4 8]\n",
            "[12 15 18 21]\n",
            "[   0  840 7920]\n"
          ]
        }
      ]
    },
    {
      "cell_type": "code",
      "source": [
        "# mean/median/std/var\n",
        "print(np.mean(a2,axis=0))\n",
        "print(np.median(a2,axis=1))\n",
        "print(np.std(a2,axis=0))\n",
        "print(np.var(a2,axis=1))"
      ],
      "metadata": {
        "colab": {
          "base_uri": "https://localhost:8080/"
        },
        "id": "KsEJTCSXF-Qr",
        "outputId": "19466587-ead9-4cd3-df2d-87bccd6d6224"
      },
      "execution_count": null,
      "outputs": [
        {
          "output_type": "stream",
          "name": "stdout",
          "text": [
            "[16. 17. 18. 19.]\n",
            "[13.5 17.5 21.5]\n",
            "[3.26598632 3.26598632 3.26598632 3.26598632]\n",
            "[1.25 1.25 1.25]\n"
          ]
        }
      ]
    },
    {
      "cell_type": "code",
      "source": [
        "#trigonometric functions\n",
        "np.sin(a2)"
      ],
      "metadata": {
        "colab": {
          "base_uri": "https://localhost:8080/"
        },
        "id": "6hfhvsa8F-Ur",
        "outputId": "f9a02d43-37dd-4f69-868e-460e5e27c10c"
      },
      "execution_count": null,
      "outputs": [
        {
          "output_type": "execute_result",
          "data": {
            "text/plain": [
              "array([[-0.53657292,  0.42016704,  0.99060736,  0.65028784],\n",
              "       [-0.28790332, -0.96139749, -0.75098725,  0.14987721],\n",
              "       [ 0.91294525,  0.83665564, -0.00885131, -0.8462204 ]])"
            ]
          },
          "metadata": {},
          "execution_count": 30
        }
      ]
    },
    {
      "cell_type": "code",
      "source": [
        "# dot product\n",
        "a3 = np.arange(12).reshape(3,4)\n",
        "a4 = np.arange(12,24).reshape(4,3)\n",
        "\n",
        "np.dot(a3,a4)"
      ],
      "metadata": {
        "colab": {
          "base_uri": "https://localhost:8080/"
        },
        "id": "Q14oO8pHKK60",
        "outputId": "81d3c145-c944-48af-c066-af58d939f125"
      },
      "execution_count": null,
      "outputs": [
        {
          "output_type": "execute_result",
          "data": {
            "text/plain": [
              "array([[114, 120, 126],\n",
              "       [378, 400, 422],\n",
              "       [642, 680, 718]])"
            ]
          },
          "metadata": {},
          "execution_count": 31
        }
      ]
    },
    {
      "cell_type": "code",
      "source": [
        "# log and exponents\n",
        "np.exp(a1)"
      ],
      "metadata": {
        "colab": {
          "base_uri": "https://localhost:8080/"
        },
        "id": "82UJIoCyKK_O",
        "outputId": "d24d35f9-718d-47eb-e7f1-6ff8964a08c2"
      },
      "execution_count": null,
      "outputs": [
        {
          "output_type": "execute_result",
          "data": {
            "text/plain": [
              "array([[1.00000000e+00, 2.71828183e+00, 7.38905610e+00, 2.00855369e+01],\n",
              "       [5.45981500e+01, 1.48413159e+02, 4.03428793e+02, 1.09663316e+03],\n",
              "       [2.98095799e+03, 8.10308393e+03, 2.20264658e+04, 5.98741417e+04]])"
            ]
          },
          "metadata": {},
          "execution_count": 32
        }
      ]
    },
    {
      "cell_type": "code",
      "source": [
        "# round/floor/ceil\n",
        "np.ceil(np.random.random((2,3))*100)"
      ],
      "metadata": {
        "colab": {
          "base_uri": "https://localhost:8080/"
        },
        "id": "RD4YvaNeKLB_",
        "outputId": "8e3a72af-f376-4acc-9e44-dde02c97e799"
      },
      "execution_count": null,
      "outputs": [
        {
          "output_type": "execute_result",
          "data": {
            "text/plain": [
              "array([[14., 71., 28.],\n",
              "       [65.,  2., 38.]])"
            ]
          },
          "metadata": {},
          "execution_count": 33
        }
      ]
    },
    {
      "cell_type": "markdown",
      "source": [
        "## Sort"
      ],
      "metadata": {
        "id": "fQ8-v6a00Idk"
      }
    },
    {
      "cell_type": "code",
      "source": [
        "a = np.random.randint(1,100,25)\n",
        "print(a)\n",
        "np.sort(a)"
      ],
      "metadata": {
        "colab": {
          "base_uri": "https://localhost:8080/"
        },
        "id": "qDWrN88X0KCG",
        "outputId": "f47d52d5-6010-496d-d90c-377f5d51b751"
      },
      "execution_count": null,
      "outputs": [
        {
          "output_type": "stream",
          "name": "stdout",
          "text": [
            "[ 7 48 63 64 29 37 42 42  7 84 23 12 66 83 75 44  3 92 98 40 88 81 95 57\n",
            " 32]\n"
          ]
        },
        {
          "output_type": "execute_result",
          "data": {
            "text/plain": [
              "array([ 3,  7,  7, 12, 23, 29, 32, 37, 40, 42, 42, 44, 48, 57, 63, 64, 66,\n",
              "       75, 81, 83, 84, 88, 92, 95, 98])"
            ]
          },
          "metadata": {},
          "execution_count": 45
        }
      ]
    },
    {
      "cell_type": "code",
      "source": [
        "b = np.random.randint(1,100,24).reshape(6,4)\n",
        "print(b)\n",
        "np.sort(b,axis=0)[::-1]"
      ],
      "metadata": {
        "colab": {
          "base_uri": "https://localhost:8080/"
        },
        "id": "Y1F9KRIt0KH2",
        "outputId": "72fb3338-a7f9-4e8a-d385-b58844fe7ad0"
      },
      "execution_count": null,
      "outputs": [
        {
          "output_type": "stream",
          "name": "stdout",
          "text": [
            "[[47 38 32 16]\n",
            " [37 45  9 37]\n",
            " [40 95 17 15]\n",
            " [96 53 49 50]\n",
            " [54 71 42 47]\n",
            " [ 9 16 92 55]]\n"
          ]
        },
        {
          "output_type": "execute_result",
          "data": {
            "text/plain": [
              "array([[96, 95, 92, 55],\n",
              "       [54, 71, 49, 50],\n",
              "       [47, 53, 42, 47],\n",
              "       [40, 45, 32, 37],\n",
              "       [37, 38, 17, 16],\n",
              "       [ 9, 16,  9, 15]])"
            ]
          },
          "metadata": {},
          "execution_count": 49
        }
      ]
    },
    {
      "cell_type": "markdown",
      "source": [
        "## Append\n",
        "\n",
        "add new item\n",
        "\n"
      ],
      "metadata": {
        "id": "Wn9S-AbA1C4M"
      }
    },
    {
      "cell_type": "code",
      "source": [
        "np.append(a,200)"
      ],
      "metadata": {
        "colab": {
          "base_uri": "https://localhost:8080/"
        },
        "id": "LW5aNzQQ1HLd",
        "outputId": "3389d4dc-c842-420c-9f1b-11ade4d93988"
      },
      "execution_count": null,
      "outputs": [
        {
          "output_type": "execute_result",
          "data": {
            "text/plain": [
              "array([  7,  48,  63,  64,  29,  37,  42,  42,   7,  84,  23,  12,  66,\n",
              "        83,  75,  44,   3,  92,  98,  40,  88,  81,  95,  57,  32, 200])"
            ]
          },
          "metadata": {},
          "execution_count": 50
        }
      ]
    },
    {
      "cell_type": "code",
      "source": [
        "b"
      ],
      "metadata": {
        "colab": {
          "base_uri": "https://localhost:8080/"
        },
        "id": "zEvHCIvN1POl",
        "outputId": "981663cf-f8ae-4654-b640-1a29da9d4dc4"
      },
      "execution_count": null,
      "outputs": [
        {
          "output_type": "execute_result",
          "data": {
            "text/plain": [
              "array([[47, 38, 32, 16],\n",
              "       [37, 45,  9, 37],\n",
              "       [40, 95, 17, 15],\n",
              "       [96, 53, 49, 50],\n",
              "       [54, 71, 42, 47],\n",
              "       [ 9, 16, 92, 55]])"
            ]
          },
          "metadata": {},
          "execution_count": 51
        }
      ]
    },
    {
      "cell_type": "code",
      "source": [
        "np.append(b,np.random.random((b.shape[0],1)),axis=1)"
      ],
      "metadata": {
        "colab": {
          "base_uri": "https://localhost:8080/"
        },
        "id": "VFGNhoxL1UN9",
        "outputId": "20f0af1c-9a66-4a9c-e2e4-cb03d210bd42"
      },
      "execution_count": null,
      "outputs": [
        {
          "output_type": "execute_result",
          "data": {
            "text/plain": [
              "array([[47.        , 38.        , 32.        , 16.        ,  0.53271249],\n",
              "       [37.        , 45.        ,  9.        , 37.        ,  0.69639087],\n",
              "       [40.        , 95.        , 17.        , 15.        ,  0.2365388 ],\n",
              "       [96.        , 53.        , 49.        , 50.        ,  0.60507953],\n",
              "       [54.        , 71.        , 42.        , 47.        ,  0.59288248],\n",
              "       [ 9.        , 16.        , 92.        , 55.        ,  0.42618539]])"
            ]
          },
          "metadata": {},
          "execution_count": 53
        }
      ]
    },
    {
      "cell_type": "markdown",
      "source": [
        "## Concatenate\n",
        "\n",
        "merge two array"
      ],
      "metadata": {
        "id": "rnl4Hfn21oY9"
      }
    },
    {
      "cell_type": "code",
      "source": [
        "c = np.arange(6).reshape(2,3)\n",
        "d = np.arange(6,12).reshape(2,3)\n",
        "print(c)\n",
        "print(d)"
      ],
      "metadata": {
        "colab": {
          "base_uri": "https://localhost:8080/"
        },
        "id": "vNT88doq10wG",
        "outputId": "a7938a84-ac98-49e7-f200-5c0367b13bae"
      },
      "execution_count": null,
      "outputs": [
        {
          "output_type": "stream",
          "name": "stdout",
          "text": [
            "[[0 1 2]\n",
            " [3 4 5]]\n",
            "[[ 6  7  8]\n",
            " [ 9 10 11]]\n"
          ]
        }
      ]
    },
    {
      "cell_type": "code",
      "source": [
        "np.concatenate((c,d),axis=0)"
      ],
      "metadata": {
        "colab": {
          "base_uri": "https://localhost:8080/"
        },
        "id": "79dePRKC1011",
        "outputId": "ee8b3cea-bc9e-4110-8467-b766338963a5"
      },
      "execution_count": null,
      "outputs": [
        {
          "output_type": "execute_result",
          "data": {
            "text/plain": [
              "array([[ 0,  1,  2],\n",
              "       [ 3,  4,  5],\n",
              "       [ 6,  7,  8],\n",
              "       [ 9, 10, 11]])"
            ]
          },
          "metadata": {},
          "execution_count": 57
        }
      ]
    },
    {
      "cell_type": "code",
      "source": [
        "np.concatenate((c,d),axis=1)"
      ],
      "metadata": {
        "colab": {
          "base_uri": "https://localhost:8080/"
        },
        "id": "ZIZyjvtK2LhW",
        "outputId": "8f3d7363-a1d1-4ad6-f8fe-05eb77bf0a99"
      },
      "execution_count": null,
      "outputs": [
        {
          "output_type": "execute_result",
          "data": {
            "text/plain": [
              "array([[ 0,  1,  2,  6,  7,  8],\n",
              "       [ 3,  4,  5,  9, 10, 11]])"
            ]
          },
          "metadata": {},
          "execution_count": 58
        }
      ]
    },
    {
      "cell_type": "markdown",
      "source": [
        "## Unique"
      ],
      "metadata": {
        "id": "7k7bOdsi2Xu7"
      }
    },
    {
      "cell_type": "code",
      "source": [
        "e = np.array([1,1,2,2,3,4,3,4,5,5,6,6])\n",
        "np.unique(e)"
      ],
      "metadata": {
        "colab": {
          "base_uri": "https://localhost:8080/"
        },
        "id": "R1oC-blK2cAN",
        "outputId": "82117832-ea00-47fa-a718-0a042b624af4"
      },
      "execution_count": null,
      "outputs": [
        {
          "output_type": "execute_result",
          "data": {
            "text/plain": [
              "array([1, 2, 3, 4, 5, 6])"
            ]
          },
          "metadata": {},
          "execution_count": 60
        }
      ]
    },
    {
      "cell_type": "markdown",
      "source": [
        "## Expand dims"
      ],
      "metadata": {
        "id": "xxjS-Ndf3BH7"
      }
    },
    {
      "cell_type": "code",
      "source": [
        "a.shape"
      ],
      "metadata": {
        "colab": {
          "base_uri": "https://localhost:8080/"
        },
        "id": "uXSeOjZ63Fu5",
        "outputId": "722069cd-a34a-4a8e-bd47-c711112b9a76"
      },
      "execution_count": null,
      "outputs": [
        {
          "output_type": "execute_result",
          "data": {
            "text/plain": [
              "(25,)"
            ]
          },
          "metadata": {},
          "execution_count": 61
        }
      ]
    },
    {
      "cell_type": "code",
      "source": [
        "np.expand_dims(a,axis=0).shape"
      ],
      "metadata": {
        "colab": {
          "base_uri": "https://localhost:8080/"
        },
        "id": "O6OfFUYI3I29",
        "outputId": "4b237c02-e41b-4dec-e9f1-b0422d06bfed"
      },
      "execution_count": null,
      "outputs": [
        {
          "output_type": "execute_result",
          "data": {
            "text/plain": [
              "(1, 25)"
            ]
          },
          "metadata": {},
          "execution_count": 65
        }
      ]
    },
    {
      "cell_type": "code",
      "source": [
        "np.expand_dims(a,axis=1).shape"
      ],
      "metadata": {
        "colab": {
          "base_uri": "https://localhost:8080/"
        },
        "id": "jin-u1mx3SiV",
        "outputId": "e7f8c3e5-fe29-4955-e1e8-9fa6787cccaa"
      },
      "execution_count": null,
      "outputs": [
        {
          "output_type": "execute_result",
          "data": {
            "text/plain": [
              "(25, 1)"
            ]
          },
          "metadata": {},
          "execution_count": 67
        }
      ]
    },
    {
      "cell_type": "markdown",
      "source": [
        "## Where"
      ],
      "metadata": {
        "id": "9Njl9dWV3flF"
      }
    },
    {
      "cell_type": "code",
      "source": [
        "a"
      ],
      "metadata": {
        "colab": {
          "base_uri": "https://localhost:8080/"
        },
        "id": "4chb0YGb3g8e",
        "outputId": "656b81de-5a98-4c17-e654-8a19e06d760f"
      },
      "execution_count": null,
      "outputs": [
        {
          "output_type": "execute_result",
          "data": {
            "text/plain": [
              "array([ 7, 48, 63, 64, 29, 37, 42, 42,  7, 84, 23, 12, 66, 83, 75, 44,  3,\n",
              "       92, 98, 40, 88, 81, 95, 57, 32])"
            ]
          },
          "metadata": {},
          "execution_count": 68
        }
      ]
    },
    {
      "cell_type": "code",
      "source": [
        "# a>50\n",
        "np.where(a>50)"
      ],
      "metadata": {
        "colab": {
          "base_uri": "https://localhost:8080/"
        },
        "id": "HlsjbLQ23iEu",
        "outputId": "f993ba62-4115-4b7a-eee2-ec8379b69e66"
      },
      "execution_count": null,
      "outputs": [
        {
          "output_type": "execute_result",
          "data": {
            "text/plain": [
              "(array([ 2,  3,  9, 12, 13, 14, 17, 18, 20, 21, 22, 23]),)"
            ]
          },
          "metadata": {},
          "execution_count": 69
        }
      ]
    },
    {
      "cell_type": "code",
      "source": [
        "# replace a>50 with 0\n",
        "np.where(a>50,0,a)"
      ],
      "metadata": {
        "colab": {
          "base_uri": "https://localhost:8080/"
        },
        "id": "00KLvAu13oa8",
        "outputId": "ca0d1fc6-7466-4ee4-e83c-a45a324cf693"
      },
      "execution_count": null,
      "outputs": [
        {
          "output_type": "execute_result",
          "data": {
            "text/plain": [
              "array([ 7, 48,  0,  0, 29, 37, 42, 42,  7,  0, 23, 12,  0,  0,  0, 44,  3,\n",
              "        0,  0, 40,  0,  0,  0,  0, 32])"
            ]
          },
          "metadata": {},
          "execution_count": 70
        }
      ]
    },
    {
      "cell_type": "code",
      "source": [
        "np.where(a % 2 == 0,0,a)"
      ],
      "metadata": {
        "colab": {
          "base_uri": "https://localhost:8080/"
        },
        "id": "nzqU3tHt34mN",
        "outputId": "7bd0b782-4c14-42ad-ad30-64bcd38a8ea6"
      },
      "execution_count": null,
      "outputs": [
        {
          "output_type": "execute_result",
          "data": {
            "text/plain": [
              "array([ 7,  0, 63,  0, 29, 37,  0,  0,  7,  0, 23,  0,  0, 83, 75,  0,  3,\n",
              "        0,  0,  0,  0, 81, 95, 57,  0])"
            ]
          },
          "metadata": {},
          "execution_count": 71
        }
      ]
    },
    {
      "cell_type": "markdown",
      "source": [
        "# Indexing and Slicing"
      ],
      "metadata": {
        "id": "-R9f3nLBMp0H"
      }
    },
    {
      "cell_type": "code",
      "source": [
        "d = np.arange(10)\n",
        "e = np.arange(12).reshape(3,4)\n",
        "f = np.arange(8).reshape(2,2,2)\n",
        "print(d)\n",
        "print(e)\n",
        "print(f)"
      ],
      "metadata": {
        "colab": {
          "base_uri": "https://localhost:8080/"
        },
        "id": "JAEtKscvKLEk",
        "outputId": "f605384e-d33e-4d0d-d31c-def06a18269b"
      },
      "execution_count": null,
      "outputs": [
        {
          "output_type": "stream",
          "name": "stdout",
          "text": [
            "[0 1 2 3 4 5 6 7 8 9]\n",
            "[[ 0  1  2  3]\n",
            " [ 4  5  6  7]\n",
            " [ 8  9 10 11]]\n",
            "[[[0 1]\n",
            "  [2 3]]\n",
            "\n",
            " [[4 5]\n",
            "  [6 7]]]\n"
          ]
        }
      ]
    },
    {
      "cell_type": "code",
      "source": [
        "print(e[1,0])\n",
        "print(f[1,0,1])\n",
        "print(f[0,1,0])"
      ],
      "metadata": {
        "colab": {
          "base_uri": "https://localhost:8080/"
        },
        "id": "WwMTx8q7KLGz",
        "outputId": "402183ba-c8cb-4751-a38d-a9fa444a8042"
      },
      "execution_count": null,
      "outputs": [
        {
          "output_type": "stream",
          "name": "stdout",
          "text": [
            "4\n",
            "5\n",
            "2\n"
          ]
        }
      ]
    },
    {
      "cell_type": "code",
      "source": [
        "print(e[0:2,1:3])\n",
        "print(f[:,1,1])\n",
        "print(f[1,1,:])\n",
        "print(f[:,:,1])"
      ],
      "metadata": {
        "colab": {
          "base_uri": "https://localhost:8080/"
        },
        "id": "k4n6_D45NL03",
        "outputId": "03cb9006-ccb3-452e-d4d9-83e12ed33f4b"
      },
      "execution_count": null,
      "outputs": [
        {
          "output_type": "stream",
          "name": "stdout",
          "text": [
            "[[1 2]\n",
            " [5 6]]\n",
            "[3 7]\n",
            "[6 7]\n",
            "[[1 3]\n",
            " [5 7]]\n"
          ]
        }
      ]
    },
    {
      "cell_type": "code",
      "source": [
        "# Fancy indexing\n",
        "a = np.arange(24).reshape(6,4)\n",
        "\n",
        "a[:,[0,2,3]]"
      ],
      "metadata": {
        "id": "9d1FJO6ENL4m",
        "colab": {
          "base_uri": "https://localhost:8080/"
        },
        "outputId": "57c94fc0-fbb8-4c13-a964-b8b05af09112"
      },
      "execution_count": null,
      "outputs": [
        {
          "output_type": "execute_result",
          "data": {
            "text/plain": [
              "array([[ 0,  2,  3],\n",
              "       [ 4,  6,  7],\n",
              "       [ 8, 10, 11],\n",
              "       [12, 14, 15],\n",
              "       [16, 18, 19],\n",
              "       [20, 22, 23]])"
            ]
          },
          "metadata": {},
          "execution_count": 37
        }
      ]
    },
    {
      "cell_type": "code",
      "source": [
        "# boolean indexing\n",
        "a = np.random.randint(1,100,24).reshape(6,4)\n",
        "a"
      ],
      "metadata": {
        "id": "gvuAp4O0NL7b",
        "colab": {
          "base_uri": "https://localhost:8080/"
        },
        "outputId": "fb358f08-4a79-4ff0-f0a8-75a86e4e2f04"
      },
      "execution_count": null,
      "outputs": [
        {
          "output_type": "execute_result",
          "data": {
            "text/plain": [
              "array([[10, 71, 32, 62],\n",
              "       [98, 60, 82, 46],\n",
              "       [67, 52, 99, 34],\n",
              "       [10, 14, 29, 61],\n",
              "       [55, 79, 34,  2],\n",
              "       [22, 70, 83,  4]])"
            ]
          },
          "metadata": {},
          "execution_count": 38
        }
      ]
    },
    {
      "cell_type": "code",
      "source": [
        "# greater than 50\n",
        "a[a>50]"
      ],
      "metadata": {
        "id": "rwTQRxLONL-k",
        "colab": {
          "base_uri": "https://localhost:8080/"
        },
        "outputId": "30dbf194-0c00-4468-8404-0c44ae3ef911"
      },
      "execution_count": null,
      "outputs": [
        {
          "output_type": "execute_result",
          "data": {
            "text/plain": [
              "array([71, 62, 98, 60, 82, 67, 52, 99, 61, 55, 79, 70, 83])"
            ]
          },
          "metadata": {},
          "execution_count": 39
        }
      ]
    },
    {
      "cell_type": "code",
      "source": [
        "# even number\n",
        "a[a % 2 == 0]"
      ],
      "metadata": {
        "id": "Ul2j0Zv7NMBM",
        "colab": {
          "base_uri": "https://localhost:8080/"
        },
        "outputId": "c1405594-d3ff-4310-cdc2-883d6b1f7a96"
      },
      "execution_count": null,
      "outputs": [
        {
          "output_type": "execute_result",
          "data": {
            "text/plain": [
              "array([10, 32, 62, 98, 60, 82, 46, 52, 34, 10, 14, 34,  2, 22, 70,  4])"
            ]
          },
          "metadata": {},
          "execution_count": 40
        }
      ]
    },
    {
      "cell_type": "code",
      "source": [
        "# grater than 50 and even number\n",
        "a[(a>50) & (a%2==0)]"
      ],
      "metadata": {
        "id": "HHe8fdNvNMDu",
        "colab": {
          "base_uri": "https://localhost:8080/"
        },
        "outputId": "11d11d30-004f-474d-c577-9150dc39bf2d"
      },
      "execution_count": null,
      "outputs": [
        {
          "output_type": "execute_result",
          "data": {
            "text/plain": [
              "array([62, 98, 60, 82, 52, 70])"
            ]
          },
          "metadata": {},
          "execution_count": 41
        }
      ]
    },
    {
      "cell_type": "code",
      "source": [
        "#not  divisible by 7\n",
        "a[~(a%7 == 0)]"
      ],
      "metadata": {
        "colab": {
          "base_uri": "https://localhost:8080/"
        },
        "id": "za8l7DLgjkMX",
        "outputId": "b0255c6a-3840-4114-fe13-291c1c1a5fc4"
      },
      "execution_count": null,
      "outputs": [
        {
          "output_type": "execute_result",
          "data": {
            "text/plain": [
              "array([10, 71, 32, 62, 60, 82, 46, 67, 52, 99, 34, 10, 29, 61, 55, 79, 34,\n",
              "        2, 22, 83,  4])"
            ]
          },
          "metadata": {},
          "execution_count": 42
        }
      ]
    },
    {
      "cell_type": "markdown",
      "source": [
        "## Argmax & Argmin"
      ],
      "metadata": {
        "id": "S-4aJnX34F4L"
      }
    },
    {
      "cell_type": "code",
      "source": [
        "a"
      ],
      "metadata": {
        "colab": {
          "base_uri": "https://localhost:8080/"
        },
        "id": "aLKh4-w64j_1",
        "outputId": "ffe0da1a-e0b2-46eb-c5b3-751bbee1ba54"
      },
      "execution_count": null,
      "outputs": [
        {
          "output_type": "execute_result",
          "data": {
            "text/plain": [
              "array([ 7, 48, 63, 64, 29, 37, 42, 42,  7, 84, 23, 12, 66, 83, 75, 44,  3,\n",
              "       92, 98, 40, 88, 81, 95, 57, 32])"
            ]
          },
          "metadata": {},
          "execution_count": 72
        }
      ]
    },
    {
      "cell_type": "code",
      "source": [
        "np.argmax(a)"
      ],
      "metadata": {
        "colab": {
          "base_uri": "https://localhost:8080/"
        },
        "id": "AjghxZzz4m2q",
        "outputId": "9bbf55a7-d710-45ba-e00a-983c0ee0ba07"
      },
      "execution_count": null,
      "outputs": [
        {
          "output_type": "execute_result",
          "data": {
            "text/plain": [
              "18"
            ]
          },
          "metadata": {},
          "execution_count": 73
        }
      ]
    },
    {
      "cell_type": "code",
      "source": [
        "b"
      ],
      "metadata": {
        "colab": {
          "base_uri": "https://localhost:8080/"
        },
        "id": "4nJhFgwd4vxN",
        "outputId": "5677ea58-338a-4e19-91ea-f7fa5810ada2"
      },
      "execution_count": null,
      "outputs": [
        {
          "output_type": "execute_result",
          "data": {
            "text/plain": [
              "array([[47, 38, 32, 16],\n",
              "       [37, 45,  9, 37],\n",
              "       [40, 95, 17, 15],\n",
              "       [96, 53, 49, 50],\n",
              "       [54, 71, 42, 47],\n",
              "       [ 9, 16, 92, 55]])"
            ]
          },
          "metadata": {},
          "execution_count": 74
        }
      ]
    },
    {
      "cell_type": "code",
      "source": [
        "np.argmax(b,axis=0)"
      ],
      "metadata": {
        "colab": {
          "base_uri": "https://localhost:8080/"
        },
        "id": "H4A7VjAx4y7u",
        "outputId": "e5aeed3b-a086-4106-d109-cc80909f0c6c"
      },
      "execution_count": null,
      "outputs": [
        {
          "output_type": "execute_result",
          "data": {
            "text/plain": [
              "array([3, 2, 5, 5])"
            ]
          },
          "metadata": {},
          "execution_count": 75
        }
      ]
    },
    {
      "cell_type": "code",
      "source": [
        "np.argmin(a)"
      ],
      "metadata": {
        "colab": {
          "base_uri": "https://localhost:8080/"
        },
        "id": "c2roWN1Y5Evl",
        "outputId": "1ce2446c-35f5-4690-8792-b534016fbba5"
      },
      "execution_count": null,
      "outputs": [
        {
          "output_type": "execute_result",
          "data": {
            "text/plain": [
              "16"
            ]
          },
          "metadata": {},
          "execution_count": 76
        }
      ]
    },
    {
      "cell_type": "markdown",
      "source": [
        "## Cumsum & Cumprod"
      ],
      "metadata": {
        "id": "Y0y9QlUB5Trs"
      }
    },
    {
      "cell_type": "code",
      "source": [
        "a"
      ],
      "metadata": {
        "colab": {
          "base_uri": "https://localhost:8080/"
        },
        "id": "vOHD4Y525VWe",
        "outputId": "87cba23c-47cd-47bf-f60a-d94e2d27bf40"
      },
      "execution_count": null,
      "outputs": [
        {
          "output_type": "execute_result",
          "data": {
            "text/plain": [
              "array([ 7, 48, 63, 64, 29, 37, 42, 42,  7, 84, 23, 12, 66, 83, 75, 44,  3,\n",
              "       92, 98, 40, 88, 81, 95, 57, 32])"
            ]
          },
          "metadata": {},
          "execution_count": 77
        }
      ]
    },
    {
      "cell_type": "code",
      "source": [
        "np.cumsum(a)"
      ],
      "metadata": {
        "colab": {
          "base_uri": "https://localhost:8080/"
        },
        "id": "5l1dKIPh5YEY",
        "outputId": "aa0cf833-b399-4729-9486-8da907a0cd37"
      },
      "execution_count": null,
      "outputs": [
        {
          "output_type": "execute_result",
          "data": {
            "text/plain": [
              "array([   7,   55,  118,  182,  211,  248,  290,  332,  339,  423,  446,\n",
              "        458,  524,  607,  682,  726,  729,  821,  919,  959, 1047, 1128,\n",
              "       1223, 1280, 1312])"
            ]
          },
          "metadata": {},
          "execution_count": 78
        }
      ]
    },
    {
      "cell_type": "code",
      "source": [
        "b"
      ],
      "metadata": {
        "colab": {
          "base_uri": "https://localhost:8080/"
        },
        "id": "5AvqcY6F5cZe",
        "outputId": "d91dd524-34ec-4967-8cf0-9161ba833483"
      },
      "execution_count": null,
      "outputs": [
        {
          "output_type": "execute_result",
          "data": {
            "text/plain": [
              "array([[47, 38, 32, 16],\n",
              "       [37, 45,  9, 37],\n",
              "       [40, 95, 17, 15],\n",
              "       [96, 53, 49, 50],\n",
              "       [54, 71, 42, 47],\n",
              "       [ 9, 16, 92, 55]])"
            ]
          },
          "metadata": {},
          "execution_count": 79
        }
      ]
    },
    {
      "cell_type": "code",
      "source": [
        "np.cumsum(b,axis=1)"
      ],
      "metadata": {
        "colab": {
          "base_uri": "https://localhost:8080/"
        },
        "id": "sRgYS4455dlO",
        "outputId": "adc62b46-a0b3-45f0-8dd7-cdf955d2e204"
      },
      "execution_count": null,
      "outputs": [
        {
          "output_type": "execute_result",
          "data": {
            "text/plain": [
              "array([[ 47,  85, 117, 133],\n",
              "       [ 37,  82,  91, 128],\n",
              "       [ 40, 135, 152, 167],\n",
              "       [ 96, 149, 198, 248],\n",
              "       [ 54, 125, 167, 214],\n",
              "       [  9,  25, 117, 172]])"
            ]
          },
          "metadata": {},
          "execution_count": 80
        }
      ]
    },
    {
      "cell_type": "code",
      "source": [
        "np.cumsum(b)"
      ],
      "metadata": {
        "colab": {
          "base_uri": "https://localhost:8080/"
        },
        "id": "rDrVE3W45k5u",
        "outputId": "81e1e828-784e-440b-9af4-5f24d078317c"
      },
      "execution_count": null,
      "outputs": [
        {
          "output_type": "execute_result",
          "data": {
            "text/plain": [
              "array([  47,   85,  117,  133,  170,  215,  224,  261,  301,  396,  413,\n",
              "        428,  524,  577,  626,  676,  730,  801,  843,  890,  899,  915,\n",
              "       1007, 1062])"
            ]
          },
          "metadata": {},
          "execution_count": 81
        }
      ]
    },
    {
      "cell_type": "code",
      "source": [
        "np.cumprod(b)"
      ],
      "metadata": {
        "colab": {
          "base_uri": "https://localhost:8080/"
        },
        "id": "NgD_KChc5ytD",
        "outputId": "47d2761c-1c38-459d-ad0d-72d08f0d9baa"
      },
      "execution_count": null,
      "outputs": [
        {
          "output_type": "execute_result",
          "data": {
            "text/plain": [
              "array([                  47,                 1786,                57152,\n",
              "                     914432,             33833984,           1522529280,\n",
              "                13702763520,         507002250240,       20280090009600,\n",
              "           1926608550912000,    32752345365504000,   491285180482560000,\n",
              "       -8176854894802894848, -9098195729233739776, -3089732963424010240,\n",
              "       -6912695581524099072, -4350679928110317568,  4696374357229830144,\n",
              "       -5666461807152201728, -8069287904219758592,  1163385156860379136,\n",
              "         167418436056514560, -3044247956510212096, -1412940944675700736])"
            ]
          },
          "metadata": {},
          "execution_count": 83
        }
      ]
    },
    {
      "cell_type": "code",
      "source": [
        "b"
      ],
      "metadata": {
        "colab": {
          "base_uri": "https://localhost:8080/"
        },
        "id": "85hzPQro5y20",
        "outputId": "088e5416-48ea-40ab-b512-db35138319aa"
      },
      "execution_count": null,
      "outputs": [
        {
          "output_type": "execute_result",
          "data": {
            "text/plain": [
              "array([[47, 38, 32, 16],\n",
              "       [37, 45,  9, 37],\n",
              "       [40, 95, 17, 15],\n",
              "       [96, 53, 49, 50],\n",
              "       [54, 71, 42, 47],\n",
              "       [ 9, 16, 92, 55]])"
            ]
          },
          "metadata": {},
          "execution_count": 84
        }
      ]
    },
    {
      "cell_type": "markdown",
      "source": [
        "## Percentile"
      ],
      "metadata": {
        "id": "FT8Yt-rm5xKc"
      }
    },
    {
      "cell_type": "code",
      "source": [
        "a"
      ],
      "metadata": {
        "colab": {
          "base_uri": "https://localhost:8080/"
        },
        "id": "RmhxAf0S6EAG",
        "outputId": "0b1c4fc9-130e-4576-e49d-248c06d737d0"
      },
      "execution_count": null,
      "outputs": [
        {
          "output_type": "execute_result",
          "data": {
            "text/plain": [
              "array([ 7, 48, 63, 64, 29, 37, 42, 42,  7, 84, 23, 12, 66, 83, 75, 44,  3,\n",
              "       92, 98, 40, 88, 81, 95, 57, 32])"
            ]
          },
          "metadata": {},
          "execution_count": 85
        }
      ]
    },
    {
      "cell_type": "code",
      "source": [
        "np.percentile(a,50)"
      ],
      "metadata": {
        "colab": {
          "base_uri": "https://localhost:8080/"
        },
        "id": "tEeKa_Wt6EsG",
        "outputId": "4acb587c-0158-4ae7-97c1-6ee3f018cb59"
      },
      "execution_count": null,
      "outputs": [
        {
          "output_type": "execute_result",
          "data": {
            "text/plain": [
              "48.0"
            ]
          },
          "metadata": {},
          "execution_count": 86
        }
      ]
    },
    {
      "cell_type": "code",
      "source": [
        "np.median(a)"
      ],
      "metadata": {
        "colab": {
          "base_uri": "https://localhost:8080/"
        },
        "id": "98ISS18d6I5O",
        "outputId": "b1c8d8e9-d49b-4c12-86ac-c268cc7952d3"
      },
      "execution_count": null,
      "outputs": [
        {
          "output_type": "execute_result",
          "data": {
            "text/plain": [
              "48.0"
            ]
          },
          "metadata": {},
          "execution_count": 87
        }
      ]
    },
    {
      "cell_type": "markdown",
      "source": [
        "## Histogram"
      ],
      "metadata": {
        "id": "Ojwf8aIX6Uvs"
      }
    },
    {
      "cell_type": "code",
      "source": [
        "a"
      ],
      "metadata": {
        "colab": {
          "base_uri": "https://localhost:8080/"
        },
        "id": "aiRKCqkV6cA2",
        "outputId": "ec8f5248-494f-41c4-e557-a5c07d0a0573"
      },
      "execution_count": null,
      "outputs": [
        {
          "output_type": "execute_result",
          "data": {
            "text/plain": [
              "array([ 7, 48, 63, 64, 29, 37, 42, 42,  7, 84, 23, 12, 66, 83, 75, 44,  3,\n",
              "       92, 98, 40, 88, 81, 95, 57, 32])"
            ]
          },
          "metadata": {},
          "execution_count": 88
        }
      ]
    },
    {
      "cell_type": "code",
      "source": [
        "np.histogram(a,bins=[0,50,100])"
      ],
      "metadata": {
        "colab": {
          "base_uri": "https://localhost:8080/"
        },
        "id": "dSdEKcGb6cpF",
        "outputId": "92852892-9764-4a2c-a17e-78ebed3557ee"
      },
      "execution_count": null,
      "outputs": [
        {
          "output_type": "execute_result",
          "data": {
            "text/plain": [
              "(array([13, 12]), array([  0,  50, 100]))"
            ]
          },
          "metadata": {},
          "execution_count": 89
        }
      ]
    },
    {
      "cell_type": "markdown",
      "source": [
        "## Corrcoef"
      ],
      "metadata": {
        "id": "bmxJTRGn6mBV"
      }
    },
    {
      "cell_type": "code",
      "source": [
        "salary = np.array([20000,40000,25000,35000,60000])\n",
        "experience = np.array([1,3,2,4,2])"
      ],
      "metadata": {
        "id": "XAdP2rmZ6otk"
      },
      "execution_count": null,
      "outputs": []
    },
    {
      "cell_type": "code",
      "source": [
        "np.corrcoef(salary,experience)"
      ],
      "metadata": {
        "colab": {
          "base_uri": "https://localhost:8080/"
        },
        "id": "XWUxKY207C0G",
        "outputId": "ee8b904d-b9fe-4769-8c37-48b11d7da9dc"
      },
      "execution_count": null,
      "outputs": [
        {
          "output_type": "execute_result",
          "data": {
            "text/plain": [
              "array([[1.        , 0.25344572],\n",
              "       [0.25344572, 1.        ]])"
            ]
          },
          "metadata": {},
          "execution_count": 91
        }
      ]
    },
    {
      "cell_type": "markdown",
      "source": [
        "## Isin"
      ],
      "metadata": {
        "id": "D7aKt7fD7Nos"
      }
    },
    {
      "cell_type": "code",
      "source": [
        "a"
      ],
      "metadata": {
        "colab": {
          "base_uri": "https://localhost:8080/"
        },
        "id": "B0hqC77_7Pzu",
        "outputId": "663e1dc1-1663-46c4-b87d-7a54048c1fea"
      },
      "execution_count": null,
      "outputs": [
        {
          "output_type": "execute_result",
          "data": {
            "text/plain": [
              "array([ 7, 48, 63, 64, 29, 37, 42, 42,  7, 84, 23, 12, 66, 83, 75, 44,  3,\n",
              "       92, 98, 40, 88, 81, 95, 57, 32])"
            ]
          },
          "metadata": {},
          "execution_count": 92
        }
      ]
    },
    {
      "cell_type": "code",
      "source": [
        "items = [10,20,30,40,50,60,70,80,90,100]\n",
        "\n",
        "a[np.isin(a,items)]"
      ],
      "metadata": {
        "colab": {
          "base_uri": "https://localhost:8080/"
        },
        "id": "CecUJGj97QnR",
        "outputId": "59631e0e-273d-44fe-f268-67fd522fa86b"
      },
      "execution_count": null,
      "outputs": [
        {
          "output_type": "execute_result",
          "data": {
            "text/plain": [
              "array([40])"
            ]
          },
          "metadata": {},
          "execution_count": 93
        }
      ]
    },
    {
      "cell_type": "markdown",
      "source": [
        "## Flip"
      ],
      "metadata": {
        "id": "98DhZ2p27iJt"
      }
    },
    {
      "cell_type": "code",
      "source": [
        "a"
      ],
      "metadata": {
        "colab": {
          "base_uri": "https://localhost:8080/"
        },
        "id": "w4oCnIXJ7kNu",
        "outputId": "eabf1fb9-d0a4-4e7d-889e-1f758374f58b"
      },
      "execution_count": null,
      "outputs": [
        {
          "output_type": "execute_result",
          "data": {
            "text/plain": [
              "array([ 7, 48, 63, 64, 29, 37, 42, 42,  7, 84, 23, 12, 66, 83, 75, 44,  3,\n",
              "       92, 98, 40, 88, 81, 95, 57, 32])"
            ]
          },
          "metadata": {},
          "execution_count": 94
        }
      ]
    },
    {
      "cell_type": "code",
      "source": [
        "np.flip(a)"
      ],
      "metadata": {
        "colab": {
          "base_uri": "https://localhost:8080/"
        },
        "id": "ZSiOWtDW7kuz",
        "outputId": "c647f528-6a6d-4bde-fbc7-b1566355c5c4"
      },
      "execution_count": null,
      "outputs": [
        {
          "output_type": "execute_result",
          "data": {
            "text/plain": [
              "array([32, 57, 95, 81, 88, 40, 98, 92,  3, 44, 75, 83, 66, 12, 23, 84,  7,\n",
              "       42, 42, 37, 29, 64, 63, 48,  7])"
            ]
          },
          "metadata": {},
          "execution_count": 95
        }
      ]
    },
    {
      "cell_type": "code",
      "source": [
        "b"
      ],
      "metadata": {
        "colab": {
          "base_uri": "https://localhost:8080/"
        },
        "id": "8vy8pTMS7k1p",
        "outputId": "cbba1ea2-662a-40f1-8877-6b4ff2f7b2ce"
      },
      "execution_count": null,
      "outputs": [
        {
          "output_type": "execute_result",
          "data": {
            "text/plain": [
              "array([[47, 38, 32, 16],\n",
              "       [37, 45,  9, 37],\n",
              "       [40, 95, 17, 15],\n",
              "       [96, 53, 49, 50],\n",
              "       [54, 71, 42, 47],\n",
              "       [ 9, 16, 92, 55]])"
            ]
          },
          "metadata": {},
          "execution_count": 96
        }
      ]
    },
    {
      "cell_type": "code",
      "source": [
        "np.flip(b,axis=1)"
      ],
      "metadata": {
        "colab": {
          "base_uri": "https://localhost:8080/"
        },
        "id": "jcpK7jvZ7sGW",
        "outputId": "163c3a8a-172a-409b-b7a8-4e92386da161"
      },
      "execution_count": null,
      "outputs": [
        {
          "output_type": "execute_result",
          "data": {
            "text/plain": [
              "array([[16, 32, 38, 47],\n",
              "       [37,  9, 45, 37],\n",
              "       [15, 17, 95, 40],\n",
              "       [50, 49, 53, 96],\n",
              "       [47, 42, 71, 54],\n",
              "       [55, 92, 16,  9]])"
            ]
          },
          "metadata": {},
          "execution_count": 97
        }
      ]
    },
    {
      "cell_type": "markdown",
      "source": [
        "# Put"
      ],
      "metadata": {
        "id": "Y1NDvfkN9HaM"
      }
    },
    {
      "cell_type": "code",
      "source": [
        "np.put(a,[0,1],[110,530])"
      ],
      "metadata": {
        "id": "Rb25UW2g9JCu"
      },
      "execution_count": null,
      "outputs": []
    },
    {
      "cell_type": "code",
      "source": [
        "a"
      ],
      "metadata": {
        "colab": {
          "base_uri": "https://localhost:8080/"
        },
        "id": "6SIWz7zE9FYf",
        "outputId": "74394c99-b499-4a9c-ba8e-6ae8b177cded"
      },
      "execution_count": null,
      "outputs": [
        {
          "output_type": "execute_result",
          "data": {
            "text/plain": [
              "array([110, 530,  63,  64,  29,  37,  42,  42,   7,  84,  23,  12,  66,\n",
              "        83,  75,  44,   3,  92,  98,  40,  88,  81,  95,  57,  32])"
            ]
          },
          "metadata": {},
          "execution_count": 100
        }
      ]
    },
    {
      "cell_type": "markdown",
      "source": [
        "## Delete"
      ],
      "metadata": {
        "id": "TuiA-_L89Tjt"
      }
    },
    {
      "cell_type": "code",
      "source": [
        "np.delete(a,[0,2,5])"
      ],
      "metadata": {
        "colab": {
          "base_uri": "https://localhost:8080/"
        },
        "id": "8co2mcbS9VDO",
        "outputId": "0efcf656-67c8-4c92-9284-9958fd2d7daa"
      },
      "execution_count": null,
      "outputs": [
        {
          "output_type": "execute_result",
          "data": {
            "text/plain": [
              "array([530,  64,  29,  42,  42,   7,  84,  23,  12,  66,  83,  75,  44,\n",
              "         3,  92,  98,  40,  88,  81,  95,  57,  32])"
            ]
          },
          "metadata": {},
          "execution_count": 101
        }
      ]
    },
    {
      "cell_type": "markdown",
      "source": [
        "## Set Functions"
      ],
      "metadata": {
        "id": "mLc8QuK1-PVd"
      }
    },
    {
      "cell_type": "code",
      "source": [
        "m = np.array([1,2,3,4,5])\n",
        "n = np.array([3,4,5,6,7])\n",
        "\n",
        "np.union1d(m,n)"
      ],
      "metadata": {
        "colab": {
          "base_uri": "https://localhost:8080/"
        },
        "id": "VYYFU91M-RR3",
        "outputId": "3fb2b9d6-f332-4c01-c815-2b7721ccc2d0"
      },
      "execution_count": null,
      "outputs": [
        {
          "output_type": "execute_result",
          "data": {
            "text/plain": [
              "array([1, 2, 3, 4, 5, 6, 7])"
            ]
          },
          "metadata": {},
          "execution_count": 102
        }
      ]
    },
    {
      "cell_type": "code",
      "source": [
        "np.intersect1d(m,n)"
      ],
      "metadata": {
        "colab": {
          "base_uri": "https://localhost:8080/"
        },
        "id": "vnbsjrSS-cis",
        "outputId": "360e1f80-8f5c-41a4-e52d-2c4e5641caad"
      },
      "execution_count": null,
      "outputs": [
        {
          "output_type": "execute_result",
          "data": {
            "text/plain": [
              "array([3, 4, 5])"
            ]
          },
          "metadata": {},
          "execution_count": 103
        }
      ]
    },
    {
      "cell_type": "code",
      "source": [
        "np.setdiff1d(n,m)"
      ],
      "metadata": {
        "colab": {
          "base_uri": "https://localhost:8080/"
        },
        "id": "ziQFH1pe-RZ2",
        "outputId": "f077eefc-56c0-4eb2-da5b-fcd52ae74518"
      },
      "execution_count": null,
      "outputs": [
        {
          "output_type": "execute_result",
          "data": {
            "text/plain": [
              "array([6, 7])"
            ]
          },
          "metadata": {},
          "execution_count": 104
        }
      ]
    },
    {
      "cell_type": "code",
      "source": [
        "np.setxor1d(m,n)"
      ],
      "metadata": {
        "colab": {
          "base_uri": "https://localhost:8080/"
        },
        "id": "6bcSr04N-kr_",
        "outputId": "d1f19535-0503-452c-95e6-e0f3141b38cb"
      },
      "execution_count": null,
      "outputs": [
        {
          "output_type": "execute_result",
          "data": {
            "text/plain": [
              "array([1, 2, 6, 7])"
            ]
          },
          "metadata": {},
          "execution_count": 105
        }
      ]
    },
    {
      "cell_type": "code",
      "source": [
        "m[np.in1d(m,1)]"
      ],
      "metadata": {
        "colab": {
          "base_uri": "https://localhost:8080/"
        },
        "id": "GCqSwe3t-pqJ",
        "outputId": "76204718-715c-403e-9f45-b4b2641e14d3"
      },
      "execution_count": null,
      "outputs": [
        {
          "output_type": "execute_result",
          "data": {
            "text/plain": [
              "array([1])"
            ]
          },
          "metadata": {},
          "execution_count": 108
        }
      ]
    },
    {
      "cell_type": "markdown",
      "source": [
        "## Clip"
      ],
      "metadata": {
        "id": "Qaz3_6r2-zCG"
      }
    },
    {
      "cell_type": "code",
      "source": [
        "a"
      ],
      "metadata": {
        "colab": {
          "base_uri": "https://localhost:8080/"
        },
        "id": "GGmZgc1Y-1Dv",
        "outputId": "a7281246-577f-4fed-a460-b6dd286e26f9"
      },
      "execution_count": null,
      "outputs": [
        {
          "output_type": "execute_result",
          "data": {
            "text/plain": [
              "array([110, 530,  63,  64,  29,  37,  42,  42,   7,  84,  23,  12,  66,\n",
              "        83,  75,  44,   3,  92,  98,  40,  88,  81,  95,  57,  32])"
            ]
          },
          "metadata": {},
          "execution_count": 109
        }
      ]
    },
    {
      "cell_type": "code",
      "source": [
        "np.clip(a,a_min=25,a_max=75)"
      ],
      "metadata": {
        "colab": {
          "base_uri": "https://localhost:8080/"
        },
        "id": "9WukCjh--1wS",
        "outputId": "1a8ce42f-a666-4229-b31d-4302520ecf36"
      },
      "execution_count": null,
      "outputs": [
        {
          "output_type": "execute_result",
          "data": {
            "text/plain": [
              "array([75, 75, 63, 64, 29, 37, 42, 42, 25, 75, 25, 25, 66, 75, 75, 44, 25,\n",
              "       75, 75, 40, 75, 75, 75, 57, 32])"
            ]
          },
          "metadata": {},
          "execution_count": 110
        }
      ]
    }
  ]
}