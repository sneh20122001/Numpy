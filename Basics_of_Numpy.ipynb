{
  "nbformat": 4,
  "nbformat_minor": 0,
  "metadata": {
    "colab": {
      "provenance": [],
      "authorship_tag": "ABX9TyPPLSMYhYJHlc1xmIN8h3di",
      "include_colab_link": true
    },
    "kernelspec": {
      "name": "python3",
      "display_name": "Python 3"
    },
    "language_info": {
      "name": "python"
    }
  },
  "cells": [
    {
      "cell_type": "markdown",
      "metadata": {
        "id": "view-in-github",
        "colab_type": "text"
      },
      "source": [
        "<a href=\"https://colab.research.google.com/github/sneh20122001/Numpy/blob/main/Basics_of_Numpy.ipynb\" target=\"_parent\"><img src=\"https://colab.research.google.com/assets/colab-badge.svg\" alt=\"Open In Colab\"/></a>"
      ]
    },
    {
      "cell_type": "code",
      "execution_count": 2,
      "metadata": {
        "id": "pnJvh2nmXJDJ"
      },
      "outputs": [],
      "source": [
        "# import library for perform task\n",
        "import numpy as np"
      ]
    },
    {
      "cell_type": "markdown",
      "source": [
        "## Creating Numpy Arrays"
      ],
      "metadata": {
        "id": "0VPXsq4gXbWo"
      }
    },
    {
      "cell_type": "code",
      "source": [
        "# 1D\n",
        "x = np.array([11,22,33])\n",
        "x\n"
      ],
      "metadata": {
        "colab": {
          "base_uri": "https://localhost:8080/"
        },
        "id": "ogNoujtbXV2u",
        "outputId": "f3d90e3f-25db-4367-d996-274395aafcfa"
      },
      "execution_count": 3,
      "outputs": [
        {
          "output_type": "execute_result",
          "data": {
            "text/plain": [
              "array([11, 22, 33])"
            ]
          },
          "metadata": {},
          "execution_count": 3
        }
      ]
    },
    {
      "cell_type": "code",
      "source": [
        "# 2D\n",
        "\n",
        "y = np.array([\n",
        "    [11,22,33],\n",
        "    [44,55,66]\n",
        "])\n",
        "y"
      ],
      "metadata": {
        "colab": {
          "base_uri": "https://localhost:8080/"
        },
        "id": "VeSOgiIzXV5c",
        "outputId": "58a70337-d0f7-4464-df22-1470e7c5d5d1"
      },
      "execution_count": 4,
      "outputs": [
        {
          "output_type": "execute_result",
          "data": {
            "text/plain": [
              "array([[11, 22, 33],\n",
              "       [44, 55, 66]])"
            ]
          },
          "metadata": {},
          "execution_count": 4
        }
      ]
    },
    {
      "cell_type": "code",
      "source": [
        "# 3D\n",
        "\n",
        "z = np.array([\n",
        "    [\n",
        "        [1,2,3],\n",
        "        [3,2,1]\n",
        "    ],\n",
        "    [\n",
        "        [4,5,6],\n",
        "        [6,5,4]\n",
        "    ]\n",
        "])\n",
        "z"
      ],
      "metadata": {
        "colab": {
          "base_uri": "https://localhost:8080/"
        },
        "id": "m5Ki12QDXV8P",
        "outputId": "5285fa21-3cfa-43de-9139-59c72176b50d"
      },
      "execution_count": 5,
      "outputs": [
        {
          "output_type": "execute_result",
          "data": {
            "text/plain": [
              "array([[[1, 2, 3],\n",
              "        [3, 2, 1]],\n",
              "\n",
              "       [[4, 5, 6],\n",
              "        [6, 5, 4]]])"
            ]
          },
          "metadata": {},
          "execution_count": 5
        }
      ]
    },
    {
      "cell_type": "markdown",
      "source": [
        "## Identify type of array"
      ],
      "metadata": {
        "id": "QE3KviyzZA7Y"
      }
    },
    {
      "cell_type": "code",
      "source": [
        "print(x.dtype)\n",
        "print(y.dtype)\n",
        "print(z.dtype)"
      ],
      "metadata": {
        "colab": {
          "base_uri": "https://localhost:8080/"
        },
        "id": "eBBMNt6YXV_N",
        "outputId": "ebeb76f6-b394-42c6-9c19-f18d82ed4b24"
      },
      "execution_count": 6,
      "outputs": [
        {
          "output_type": "stream",
          "name": "stdout",
          "text": [
            "int64\n",
            "int64\n",
            "int64\n"
          ]
        }
      ]
    },
    {
      "cell_type": "markdown",
      "source": [
        "## Change datatype"
      ],
      "metadata": {
        "id": "VM4EYa8oZQfl"
      }
    },
    {
      "cell_type": "code",
      "source": [
        "a=np.array([1,2,4],dtype=float)\n",
        "\n",
        "print(a)\n",
        "print(a.dtype)\n"
      ],
      "metadata": {
        "colab": {
          "base_uri": "https://localhost:8080/"
        },
        "id": "diSeNqCpXWB8",
        "outputId": "0fca3793-0011-4171-a9d8-d6d7b5cf1995"
      },
      "execution_count": 7,
      "outputs": [
        {
          "output_type": "stream",
          "name": "stdout",
          "text": [
            "[1. 2. 4.]\n",
            "float64\n"
          ]
        }
      ]
    },
    {
      "cell_type": "markdown",
      "source": [
        "## Astype"
      ],
      "metadata": {
        "id": "6EaUnSYrDD2M"
      }
    },
    {
      "cell_type": "code",
      "source": [
        "#convert another memory type\n",
        "a.astype(np.float32)"
      ],
      "metadata": {
        "colab": {
          "base_uri": "https://localhost:8080/"
        },
        "id": "3u9sz7TSDEMb",
        "outputId": "afe2fba8-8c34-4f3a-8cf6-013a7f2442eb"
      },
      "execution_count": 38,
      "outputs": [
        {
          "output_type": "execute_result",
          "data": {
            "text/plain": [
              "array([1., 2., 4.], dtype=float32)"
            ]
          },
          "metadata": {},
          "execution_count": 38
        }
      ]
    },
    {
      "cell_type": "markdown",
      "source": [
        "## Arange"
      ],
      "metadata": {
        "id": "NH4C_sbHa2N0"
      }
    },
    {
      "cell_type": "code",
      "source": [
        "# numbers print in particular range between parameter\n",
        "# first para included and last is excluded\n",
        "np.arange(1,20)"
      ],
      "metadata": {
        "colab": {
          "base_uri": "https://localhost:8080/"
        },
        "id": "139k39k6XWET",
        "outputId": "8016eee9-96bb-43b6-fd56-a2b04a7809fc"
      },
      "execution_count": 8,
      "outputs": [
        {
          "output_type": "execute_result",
          "data": {
            "text/plain": [
              "array([ 1,  2,  3,  4,  5,  6,  7,  8,  9, 10, 11, 12, 13, 14, 15, 16, 17,\n",
              "       18, 19])"
            ]
          },
          "metadata": {},
          "execution_count": 8
        }
      ]
    },
    {
      "cell_type": "markdown",
      "source": [
        "## Ndim"
      ],
      "metadata": {
        "id": "ptQGKKrTwzP6"
      }
    },
    {
      "cell_type": "code",
      "source": [
        "# dimension\n",
        "print(x.ndim)\n",
        "print(y.ndim)\n",
        "print(z.ndim)"
      ],
      "metadata": {
        "colab": {
          "base_uri": "https://localhost:8080/"
        },
        "id": "mpm9NkgZw2Dd",
        "outputId": "3ad72b6a-dfea-42d2-b677-7b4fc4ecf8cd"
      },
      "execution_count": 31,
      "outputs": [
        {
          "output_type": "stream",
          "name": "stdout",
          "text": [
            "1\n",
            "2\n",
            "3\n"
          ]
        }
      ]
    },
    {
      "cell_type": "markdown",
      "source": [
        "## Shape and Reshape"
      ],
      "metadata": {
        "id": "255yXR_4b79r"
      }
    },
    {
      "cell_type": "code",
      "source": [
        "print(x.shape)\n",
        "print(y.shape)\n",
        "print(z.shape)"
      ],
      "metadata": {
        "colab": {
          "base_uri": "https://localhost:8080/"
        },
        "id": "usDIcRC8XWG9",
        "outputId": "54b038ad-58b7-4942-84bf-dfb078a825b9"
      },
      "execution_count": 9,
      "outputs": [
        {
          "output_type": "stream",
          "name": "stdout",
          "text": [
            "(3,)\n",
            "(2, 3)\n",
            "(2, 2, 3)\n"
          ]
        }
      ]
    },
    {
      "cell_type": "code",
      "source": [
        "print(x.reshape(3,1))\n",
        "print(y.reshape(3,2))\n",
        "print(z.reshape(2,3,2))"
      ],
      "metadata": {
        "colab": {
          "base_uri": "https://localhost:8080/"
        },
        "id": "mVDcVECDXWJe",
        "outputId": "0ca3bf2d-8146-495f-e815-4dcbf4d61e36"
      },
      "execution_count": 10,
      "outputs": [
        {
          "output_type": "stream",
          "name": "stdout",
          "text": [
            "[[11]\n",
            " [22]\n",
            " [33]]\n",
            "[[11 22]\n",
            " [33 44]\n",
            " [55 66]]\n",
            "[[[1 2]\n",
            "  [3 3]\n",
            "  [2 1]]\n",
            "\n",
            " [[4 5]\n",
            "  [6 6]\n",
            "  [5 4]]]\n"
          ]
        }
      ]
    },
    {
      "cell_type": "markdown",
      "source": [
        "## Zeros and Ones"
      ],
      "metadata": {
        "id": "9z-bNmHbvXDS"
      }
    },
    {
      "cell_type": "code",
      "source": [
        "np.ones((3,4))"
      ],
      "metadata": {
        "id": "Y1U8_xnfXWLu",
        "colab": {
          "base_uri": "https://localhost:8080/"
        },
        "outputId": "aad18967-54d2-48c4-a867-94e21a475368"
      },
      "execution_count": 13,
      "outputs": [
        {
          "output_type": "execute_result",
          "data": {
            "text/plain": [
              "array([[1., 1., 1., 1.],\n",
              "       [1., 1., 1., 1.],\n",
              "       [1., 1., 1., 1.]])"
            ]
          },
          "metadata": {},
          "execution_count": 13
        }
      ]
    },
    {
      "cell_type": "code",
      "source": [
        "np.zeros((3,4))"
      ],
      "metadata": {
        "id": "aQZOeZRZXWOP",
        "colab": {
          "base_uri": "https://localhost:8080/"
        },
        "outputId": "82b766ab-6661-4e83-e054-24ee70291f1d"
      },
      "execution_count": 15,
      "outputs": [
        {
          "output_type": "execute_result",
          "data": {
            "text/plain": [
              "array([[0., 0., 0., 0.],\n",
              "       [0., 0., 0., 0.],\n",
              "       [0., 0., 0., 0.]])"
            ]
          },
          "metadata": {},
          "execution_count": 15
        }
      ]
    },
    {
      "cell_type": "markdown",
      "source": [
        "## Identity"
      ],
      "metadata": {
        "id": "Gkj_3L_dxGiZ"
      }
    },
    {
      "cell_type": "code",
      "source": [
        "np.identity(3)"
      ],
      "metadata": {
        "colab": {
          "base_uri": "https://localhost:8080/"
        },
        "id": "oqKhmNgWxI7n",
        "outputId": "32785f93-6b94-4ae6-b1d0-206044a080b5"
      },
      "execution_count": 32,
      "outputs": [
        {
          "output_type": "execute_result",
          "data": {
            "text/plain": [
              "array([[1., 0., 0.],\n",
              "       [0., 1., 0.],\n",
              "       [0., 0., 1.]])"
            ]
          },
          "metadata": {},
          "execution_count": 32
        }
      ]
    },
    {
      "cell_type": "markdown",
      "source": [
        "## Random"
      ],
      "metadata": {
        "id": "EqOcmCfsvwkr"
      }
    },
    {
      "cell_type": "code",
      "source": [
        "np.random.random((3,4))"
      ],
      "metadata": {
        "id": "DYef-xywXWQ0",
        "colab": {
          "base_uri": "https://localhost:8080/"
        },
        "outputId": "1da0e8a1-4ec5-4fcd-df11-e0b1a781aa67"
      },
      "execution_count": 23,
      "outputs": [
        {
          "output_type": "execute_result",
          "data": {
            "text/plain": [
              "array([[0.29759305, 0.57457416, 0.58921572, 0.7967248 ],\n",
              "       [0.59725112, 0.42293076, 0.93595783, 0.09074245],\n",
              "       [0.81928683, 0.26497229, 0.19214676, 0.95315217]])"
            ]
          },
          "metadata": {},
          "execution_count": 23
        }
      ]
    },
    {
      "cell_type": "markdown",
      "source": [
        "## Linspace"
      ],
      "metadata": {
        "id": "rHmjb9PxwGEy"
      }
    },
    {
      "cell_type": "code",
      "source": [
        "# difference between two numbers are same\n",
        "np.linspace(-10,10,7,dtype=int)"
      ],
      "metadata": {
        "id": "qkcKS3f0XWTT",
        "colab": {
          "base_uri": "https://localhost:8080/"
        },
        "outputId": "3a8a05dd-cdff-4cfe-b09d-a72229d42416"
      },
      "execution_count": 28,
      "outputs": [
        {
          "output_type": "execute_result",
          "data": {
            "text/plain": [
              "array([-10,  -7,  -4,   0,   3,   6,  10])"
            ]
          },
          "metadata": {},
          "execution_count": 28
        }
      ]
    },
    {
      "cell_type": "markdown",
      "source": [
        "## Size and Itemsize"
      ],
      "metadata": {
        "id": "8CwwzSdlzeg3"
      }
    },
    {
      "cell_type": "code",
      "source": [
        "print(x.size)\n",
        "print(y.size)\n",
        "print(z.size)"
      ],
      "metadata": {
        "id": "T72dbNo2XWVg",
        "colab": {
          "base_uri": "https://localhost:8080/"
        },
        "outputId": "812635a6-9848-4912-abd2-59a339ee4449"
      },
      "execution_count": 34,
      "outputs": [
        {
          "output_type": "stream",
          "name": "stdout",
          "text": [
            "3\n",
            "6\n",
            "12\n"
          ]
        }
      ]
    },
    {
      "cell_type": "code",
      "source": [
        "# It's depends on datatype\n",
        "print(x.itemsize)\n",
        "print(y.itemsize)\n",
        "print(z.itemsize)"
      ],
      "metadata": {
        "id": "r1zkRHX4XWYT",
        "colab": {
          "base_uri": "https://localhost:8080/"
        },
        "outputId": "bc06620f-1c4b-48ea-f4db-d26e514dbee0"
      },
      "execution_count": 36,
      "outputs": [
        {
          "output_type": "stream",
          "name": "stdout",
          "text": [
            "8\n",
            "8\n",
            "8\n"
          ]
        }
      ]
    },
    {
      "cell_type": "markdown",
      "source": [
        "## Array Operations"
      ],
      "metadata": {
        "id": "SXj_upYOCsYt"
      }
    },
    {
      "cell_type": "code",
      "source": [
        "a1 = np.arange(12).reshape(3,4)\n",
        "a1"
      ],
      "metadata": {
        "id": "AFlSH3GuXWd1",
        "colab": {
          "base_uri": "https://localhost:8080/"
        },
        "outputId": "f61b58aa-dc66-41b5-baac-52c1a63ceecf"
      },
      "execution_count": 40,
      "outputs": [
        {
          "output_type": "execute_result",
          "data": {
            "text/plain": [
              "array([[ 0,  1,  2,  3],\n",
              "       [ 4,  5,  6,  7],\n",
              "       [ 8,  9, 10, 11]])"
            ]
          },
          "metadata": {},
          "execution_count": 40
        }
      ]
    },
    {
      "cell_type": "code",
      "source": [
        "a2 = np.arange(12,24).reshape(3,4)\n",
        "a2"
      ],
      "metadata": {
        "id": "hD9C43YGXWgv",
        "colab": {
          "base_uri": "https://localhost:8080/"
        },
        "outputId": "cc6f2c42-97bb-42d5-f821-809aa1a96663"
      },
      "execution_count": 41,
      "outputs": [
        {
          "output_type": "execute_result",
          "data": {
            "text/plain": [
              "array([[12, 13, 14, 15],\n",
              "       [16, 17, 18, 19],\n",
              "       [20, 21, 22, 23]])"
            ]
          },
          "metadata": {},
          "execution_count": 41
        }
      ]
    },
    {
      "cell_type": "code",
      "source": [
        "# arithmetic +,-,*,/,%,**,//\n",
        "a1 ** 2"
      ],
      "metadata": {
        "id": "UVKDUutzXWjl",
        "colab": {
          "base_uri": "https://localhost:8080/"
        },
        "outputId": "a3327b61-f9f4-4720-fb92-b1eb0d48c7c3"
      },
      "execution_count": 42,
      "outputs": [
        {
          "output_type": "execute_result",
          "data": {
            "text/plain": [
              "array([[  0,   1,   4,   9],\n",
              "       [ 16,  25,  36,  49],\n",
              "       [ 64,  81, 100, 121]])"
            ]
          },
          "metadata": {},
          "execution_count": 42
        }
      ]
    },
    {
      "cell_type": "code",
      "source": [
        "# relational ==,<,>,<=,>=,!=\n",
        "a2 == 15"
      ],
      "metadata": {
        "id": "4btEYfr_XWmD",
        "colab": {
          "base_uri": "https://localhost:8080/"
        },
        "outputId": "fcd1006f-bdea-4a19-9f2e-abc6de6c8e5e"
      },
      "execution_count": 43,
      "outputs": [
        {
          "output_type": "execute_result",
          "data": {
            "text/plain": [
              "array([[False, False, False,  True],\n",
              "       [False, False, False, False],\n",
              "       [False, False, False, False]])"
            ]
          },
          "metadata": {},
          "execution_count": 43
        }
      ]
    },
    {
      "cell_type": "code",
      "source": [
        "# vector operations\n",
        "a1 ** a2"
      ],
      "metadata": {
        "colab": {
          "base_uri": "https://localhost:8080/"
        },
        "id": "-41sGU_1F-EW",
        "outputId": "19a37607-64d1-4d86-d9ba-5f9f458ad454"
      },
      "execution_count": 44,
      "outputs": [
        {
          "output_type": "execute_result",
          "data": {
            "text/plain": [
              "array([[                   0,                    1,                16384,\n",
              "                    14348907],\n",
              "       [          4294967296,         762939453125,      101559956668416,\n",
              "           11398895185373143],\n",
              "       [ 1152921504606846976, -1261475310744950487,  1864712049423024128,\n",
              "         6839173302027254275]])"
            ]
          },
          "metadata": {},
          "execution_count": 44
        }
      ]
    },
    {
      "cell_type": "markdown",
      "source": [
        "# Array Function"
      ],
      "metadata": {
        "id": "ASLWTfIzGZgV"
      }
    },
    {
      "cell_type": "markdown",
      "source": [
        "0-----------------> col\n",
        "\n",
        "1-----------------> row"
      ],
      "metadata": {
        "id": "9spcoDpeG0uF"
      }
    },
    {
      "cell_type": "code",
      "source": [
        "# max/min/sum/prod\n",
        "print(np.max(a1,axis=0))\n",
        "print(np.min(a1,axis=1))\n",
        "print(np.sum(a1,axis=0))\n",
        "print(np.prod(a1,axis=1))"
      ],
      "metadata": {
        "colab": {
          "base_uri": "https://localhost:8080/"
        },
        "id": "kTZKyZ3rF-MT",
        "outputId": "726c3e7e-2a86-4de5-f147-77a529cf63cd"
      },
      "execution_count": 47,
      "outputs": [
        {
          "output_type": "stream",
          "name": "stdout",
          "text": [
            "[ 8  9 10 11]\n",
            "[0 4 8]\n",
            "[12 15 18 21]\n",
            "[   0  840 7920]\n"
          ]
        }
      ]
    },
    {
      "cell_type": "code",
      "source": [
        "# mean/median/std/var\n",
        "print(np.mean(a2,axis=0))\n",
        "print(np.median(a2,axis=1))\n",
        "print(np.std(a2,axis=0))\n",
        "print(np.var(a2,axis=1))"
      ],
      "metadata": {
        "colab": {
          "base_uri": "https://localhost:8080/"
        },
        "id": "KsEJTCSXF-Qr",
        "outputId": "52d82333-b52d-4096-834d-a16945c55c01"
      },
      "execution_count": 49,
      "outputs": [
        {
          "output_type": "stream",
          "name": "stdout",
          "text": [
            "[16. 17. 18. 19.]\n",
            "[13.5 17.5 21.5]\n",
            "[3.26598632 3.26598632 3.26598632 3.26598632]\n",
            "[1.25 1.25 1.25]\n"
          ]
        }
      ]
    },
    {
      "cell_type": "code",
      "source": [
        "#trigonometric functions\n",
        "np.sin(a2)"
      ],
      "metadata": {
        "colab": {
          "base_uri": "https://localhost:8080/"
        },
        "id": "6hfhvsa8F-Ur",
        "outputId": "6f938ae1-3009-41da-e5d2-20ae5f5f3ba6"
      },
      "execution_count": 50,
      "outputs": [
        {
          "output_type": "execute_result",
          "data": {
            "text/plain": [
              "array([[-0.53657292,  0.42016704,  0.99060736,  0.65028784],\n",
              "       [-0.28790332, -0.96139749, -0.75098725,  0.14987721],\n",
              "       [ 0.91294525,  0.83665564, -0.00885131, -0.8462204 ]])"
            ]
          },
          "metadata": {},
          "execution_count": 50
        }
      ]
    },
    {
      "cell_type": "code",
      "source": [
        "# dot product\n",
        "a3 = np.arange(12).reshape(3,4)\n",
        "a4 = np.arange(12,24).reshape(4,3)\n",
        "\n",
        "np.dot(a3,a4)"
      ],
      "metadata": {
        "colab": {
          "base_uri": "https://localhost:8080/"
        },
        "id": "Q14oO8pHKK60",
        "outputId": "a8c04723-8a05-4c8b-d72b-f483221e968f"
      },
      "execution_count": 53,
      "outputs": [
        {
          "output_type": "execute_result",
          "data": {
            "text/plain": [
              "array([[114, 120, 126],\n",
              "       [378, 400, 422],\n",
              "       [642, 680, 718]])"
            ]
          },
          "metadata": {},
          "execution_count": 53
        }
      ]
    },
    {
      "cell_type": "code",
      "source": [
        "# log and exponents\n",
        "np.exp(a1)"
      ],
      "metadata": {
        "colab": {
          "base_uri": "https://localhost:8080/"
        },
        "id": "82UJIoCyKK_O",
        "outputId": "00f7596a-bcf1-4717-facc-539ec1015bd6"
      },
      "execution_count": 55,
      "outputs": [
        {
          "output_type": "execute_result",
          "data": {
            "text/plain": [
              "array([[1.00000000e+00, 2.71828183e+00, 7.38905610e+00, 2.00855369e+01],\n",
              "       [5.45981500e+01, 1.48413159e+02, 4.03428793e+02, 1.09663316e+03],\n",
              "       [2.98095799e+03, 8.10308393e+03, 2.20264658e+04, 5.98741417e+04]])"
            ]
          },
          "metadata": {},
          "execution_count": 55
        }
      ]
    },
    {
      "cell_type": "code",
      "source": [
        "# round/floor/ceil\n",
        "np.ceil(np.random.random((2,3))*100)"
      ],
      "metadata": {
        "colab": {
          "base_uri": "https://localhost:8080/"
        },
        "id": "RD4YvaNeKLB_",
        "outputId": "ea3348c0-300a-44f6-83a7-b0f1e6a55861"
      },
      "execution_count": 58,
      "outputs": [
        {
          "output_type": "execute_result",
          "data": {
            "text/plain": [
              "array([[41., 23., 24.],\n",
              "       [85., 53., 20.]])"
            ]
          },
          "metadata": {},
          "execution_count": 58
        }
      ]
    },
    {
      "cell_type": "markdown",
      "source": [
        "# Indexing and Slicing"
      ],
      "metadata": {
        "id": "-R9f3nLBMp0H"
      }
    },
    {
      "cell_type": "code",
      "source": [
        "d = np.arange(10)\n",
        "e = np.arange(12).reshape(3,4)\n",
        "f = np.arange(8).reshape(2,2,2)\n",
        "print(d)\n",
        "print(e)\n",
        "print(f)"
      ],
      "metadata": {
        "colab": {
          "base_uri": "https://localhost:8080/"
        },
        "id": "JAEtKscvKLEk",
        "outputId": "b586e9e0-ac9a-4249-8c8c-0e6ec206ad77"
      },
      "execution_count": 62,
      "outputs": [
        {
          "output_type": "stream",
          "name": "stdout",
          "text": [
            "[0 1 2 3 4 5 6 7 8 9]\n",
            "[[ 0  1  2  3]\n",
            " [ 4  5  6  7]\n",
            " [ 8  9 10 11]]\n",
            "[[[0 1]\n",
            "  [2 3]]\n",
            "\n",
            " [[4 5]\n",
            "  [6 7]]]\n"
          ]
        }
      ]
    },
    {
      "cell_type": "code",
      "source": [
        "print(e[1,0])\n",
        "print(f[1,0,1])\n",
        "print(f[0,1,0])"
      ],
      "metadata": {
        "colab": {
          "base_uri": "https://localhost:8080/"
        },
        "id": "WwMTx8q7KLGz",
        "outputId": "d44a56f2-abb2-41b3-cc5f-bac7f49d73c5"
      },
      "execution_count": 66,
      "outputs": [
        {
          "output_type": "stream",
          "name": "stdout",
          "text": [
            "4\n",
            "5\n",
            "2\n"
          ]
        }
      ]
    },
    {
      "cell_type": "code",
      "source": [
        "print(e[0:2,1:3])\n",
        "print(f[:,1,1])\n",
        "print(f[1,1,:])\n",
        "print(f[:,:,1])"
      ],
      "metadata": {
        "colab": {
          "base_uri": "https://localhost:8080/"
        },
        "id": "k4n6_D45NL03",
        "outputId": "1c16b417-bc4b-401e-f2d6-36e08990f866"
      },
      "execution_count": 75,
      "outputs": [
        {
          "output_type": "stream",
          "name": "stdout",
          "text": [
            "[[1 2]\n",
            " [5 6]]\n",
            "[3 7]\n",
            "[6 7]\n",
            "[[1 3]\n",
            " [5 7]]\n"
          ]
        }
      ]
    },
    {
      "cell_type": "code",
      "source": [],
      "metadata": {
        "id": "9d1FJO6ENL4m"
      },
      "execution_count": null,
      "outputs": []
    },
    {
      "cell_type": "code",
      "source": [],
      "metadata": {
        "id": "gvuAp4O0NL7b"
      },
      "execution_count": null,
      "outputs": []
    },
    {
      "cell_type": "code",
      "source": [],
      "metadata": {
        "id": "rwTQRxLONL-k"
      },
      "execution_count": null,
      "outputs": []
    },
    {
      "cell_type": "code",
      "source": [],
      "metadata": {
        "id": "Ul2j0Zv7NMBM"
      },
      "execution_count": null,
      "outputs": []
    },
    {
      "cell_type": "code",
      "source": [],
      "metadata": {
        "id": "HHe8fdNvNMDu"
      },
      "execution_count": null,
      "outputs": []
    }
  ]
}